{
  "nbformat": 4,
  "nbformat_minor": 0,
  "metadata": {
    "colab": {
      "provenance": [],
      "include_colab_link": true
    },
    "kernelspec": {
      "name": "python3",
      "display_name": "Python 3"
    },
    "language_info": {
      "name": "python"
    }
  },
  "cells": [
    {
      "cell_type": "markdown",
      "metadata": {
        "id": "view-in-github",
        "colab_type": "text"
      },
      "source": [
        "<a href=\"https://colab.research.google.com/github/Dobenkss/Regresi_Linear_Big_Data/blob/main/LinearReg.ipynb\" target=\"_parent\"><img src=\"https://colab.research.google.com/assets/colab-badge.svg\" alt=\"Open In Colab\"/></a>"
      ]
    },
    {
      "cell_type": "markdown",
      "source": [
        "NAMA : ABHIPRAYA RASENDRIYA ATMA ARDANY <BR>\n",
        "NIM : 24.21.1587 <BR>\n",
        "LINK : https://colab.research.google.com/drive/1jWuXbPXdXjDFR-5FWw2paz-6MevRBKub?usp=sharing"
      ],
      "metadata": {
        "id": "zmGpxQMwKO_I"
      }
    },
    {
      "cell_type": "code",
      "execution_count": null,
      "metadata": {
        "colab": {
          "base_uri": "https://localhost:8080/"
        },
        "id": "vx8ycW9hyN6R",
        "outputId": "459fb83c-1faf-49a2-9151-dff194926b2c"
      },
      "outputs": [
        {
          "output_type": "stream",
          "name": "stdout",
          "text": [
            "Requirement already satisfied: pyspark in /usr/local/lib/python3.10/dist-packages (3.5.3)\n",
            "Requirement already satisfied: py4j==0.10.9.7 in /usr/local/lib/python3.10/dist-packages (from pyspark) (0.10.9.7)\n"
          ]
        }
      ],
      "source": [
        "!pip install pyspark"
      ]
    },
    {
      "cell_type": "code",
      "source": [
        "# spark.stop()\n",
        "# creating Spark session\n",
        "from pyspark.sql import SparkSession\n",
        "\n",
        "spark = SparkSession.builder.getOrCreate()\n",
        "spark = SparkSession.builder\\\n",
        "        .master(\"local\")\\\n",
        "        .appName(\"RDD\")\\\n",
        "        .config('spark.ui.port', '4050')\\\n",
        "        .getOrCreate()\n",
        "\n",
        "spark\n",
        "sc = spark.sparkContext"
      ],
      "metadata": {
        "id": "FB5U4PZFyR_t"
      },
      "execution_count": null,
      "outputs": []
    },
    {
      "cell_type": "code",
      "source": [
        "from pyspark.ml.regression import LinearRegression\n",
        "\n",
        "# Load training data\n",
        "training = spark.read.format(\"libsvm\")\\\n",
        "    .load(\"sample_dataset_lr.txt\")\n",
        "\n",
        "training.show()"
      ],
      "metadata": {
        "id": "32lEhNRXyT8m",
        "colab": {
          "base_uri": "https://localhost:8080/"
        },
        "outputId": "03efbd74-5a62-427d-8e22-623d81e325b6"
      },
      "execution_count": null,
      "outputs": [
        {
          "output_type": "stream",
          "name": "stdout",
          "text": [
            "+-------------------+--------------------+\n",
            "|              label|            features|\n",
            "+-------------------+--------------------+\n",
            "| -9.490009878824548|(10,[0,1,2,3,4,5,...|\n",
            "| 0.2577820163584905|(10,[0,1,2,3,4,5,...|\n",
            "| -4.438869807456516|(10,[0,1,2,3,4,5,...|\n",
            "|-19.782762789614537|(10,[0,1,2,3,4,5,...|\n",
            "| -7.966593841555266|(10,[0,1,2,3,4,5,...|\n",
            "| -7.896274316726144|(10,[0,1,2,3,4,5,...|\n",
            "| -8.464803554195287|(10,[0,1,2,3,4,5,...|\n",
            "| 2.1214592666251364|(10,[0,1,2,3,4,5,...|\n",
            "| 1.0720117616524107|(10,[0,1,2,3,4,5,...|\n",
            "|-13.772441561702871|(10,[0,1,2,3,4,5,...|\n",
            "| -5.082010756207233|(10,[0,1,2,3,4,5,...|\n",
            "|  7.887786536531237|(10,[0,1,2,3,4,5,...|\n",
            "| 14.323146365332388|(10,[0,1,2,3,4,5,...|\n",
            "|-20.057482615789212|(10,[0,1,2,3,4,5,...|\n",
            "|-0.8995693247765151|(10,[0,1,2,3,4,5,...|\n",
            "| -19.16829262296376|(10,[0,1,2,3,4,5,...|\n",
            "|  5.601801561245534|(10,[0,1,2,3,4,5,...|\n",
            "|-3.2256352187273354|(10,[0,1,2,3,4,5,...|\n",
            "| 1.5299675726687754|(10,[0,1,2,3,4,5,...|\n",
            "| -0.250102447941961|(10,[0,1,2,3,4,5,...|\n",
            "+-------------------+--------------------+\n",
            "only showing top 20 rows\n",
            "\n"
          ]
        }
      ]
    },
    {
      "cell_type": "code",
      "source": [
        "lr = LinearRegression(maxIter=10, regParam=0.3, elasticNetParam=0.8)\n",
        "# Fit the model\n",
        "lrModel = lr.fit(training)"
      ],
      "metadata": {
        "id": "_7fVQjPXylCy"
      },
      "execution_count": null,
      "outputs": []
    },
    {
      "cell_type": "code",
      "source": [
        "# Summarize the model over the training set and print out some metrics\n",
        "trainingSummary = lrModel.summary\n",
        "print(\"numIterations: %d\" % trainingSummary.totalIterations)\n",
        "print(\"objectiveHistory: %s\" % str(trainingSummary.objectiveHistory))\n",
        "trainingSummary.residuals.show()\n",
        "print(\"RMSE: %f\" % trainingSummary.rootMeanSquaredError)\n",
        "print(\"r2: %f\" % trainingSummary.r2)"
      ],
      "metadata": {
        "colab": {
          "base_uri": "https://localhost:8080/"
        },
        "id": "8Azm7ZTDyooo",
        "outputId": "5b5d71a0-0be8-4408-ccb2-f23ec375c46a"
      },
      "execution_count": null,
      "outputs": [
        {
          "output_type": "stream",
          "name": "stdout",
          "text": [
            "numIterations: 6\n",
            "objectiveHistory: [0.49999999999999994, 0.4967620357443381, 0.49363616643404634, 0.4936351537897608, 0.4936351214177871, 0.49363512062528014, 0.4936351206216114]\n",
            "+--------------------+\n",
            "|           residuals|\n",
            "+--------------------+\n",
            "|  -9.889232683103197|\n",
            "|  0.5533794340053553|\n",
            "|  -5.204019455758822|\n",
            "| -20.566686715507508|\n",
            "|    -9.4497405180564|\n",
            "|  -6.909112502719487|\n",
            "|  -10.00431602969873|\n",
            "|  2.0623978070504845|\n",
            "|  3.1117508432954772|\n",
            "|  -15.89360822941938|\n",
            "|  -5.036284254673026|\n",
            "|  6.4832158769943335|\n",
            "|  12.429497299109002|\n",
            "|  -20.32003219007654|\n",
            "|    -2.0049838218725|\n",
            "| -17.867901734183793|\n",
            "|   7.646455887420495|\n",
            "| -2.2653482182417406|\n",
            "|-0.10308920436195645|\n",
            "|  -1.380034070385301|\n",
            "+--------------------+\n",
            "only showing top 20 rows\n",
            "\n",
            "RMSE: 10.189077\n",
            "r2: 0.022861\n"
          ]
        }
      ]
    },
    {
      "cell_type": "code",
      "source": [
        "from pyspark.ml.linalg import Vectors\n",
        "df = spark.createDataFrame([\n",
        "    (1.0, 2.0, Vectors.dense(1.0)),\n",
        "    (0.0, 2.0, Vectors.sparse(1, [], []))], [\"label\", \"weight\", \"features\"])\n",
        "\n",
        "df.printSchema()\n",
        "df.show()"
      ],
      "metadata": {
        "id": "Xfg7GAB0yp-A",
        "colab": {
          "base_uri": "https://localhost:8080/"
        },
        "outputId": "cc47030a-54cd-4fbe-bfdf-4a6243c55927"
      },
      "execution_count": null,
      "outputs": [
        {
          "output_type": "stream",
          "name": "stdout",
          "text": [
            "root\n",
            " |-- label: double (nullable = true)\n",
            " |-- weight: double (nullable = true)\n",
            " |-- features: vector (nullable = true)\n",
            "\n",
            "+-----+------+---------+\n",
            "|label|weight| features|\n",
            "+-----+------+---------+\n",
            "|  1.0|   2.0|    [1.0]|\n",
            "|  0.0|   2.0|(1,[],[])|\n",
            "+-----+------+---------+\n",
            "\n"
          ]
        }
      ]
    },
    {
      "cell_type": "code",
      "source": [
        "trainingSummary = lrModel.summary\n",
        "print(\"=== Model Awal ===\")\n",
        "print(\"RMSE: %f\" % trainingSummary.rootMeanSquaredError)\n",
        "print(\"R2: %f\" % trainingSummary.r2)\n",
        "print(\"==================\")"
      ],
      "metadata": {
        "colab": {
          "base_uri": "https://localhost:8080/"
        },
        "id": "Y04mmVzXyxAq",
        "outputId": "3ede24cd-5a73-4c49-eddb-7f57faa77438"
      },
      "execution_count": null,
      "outputs": [
        {
          "output_type": "stream",
          "name": "stdout",
          "text": [
            "=== Model Awal ===\n",
            "RMSE: 10.189077\n",
            "R2: 0.022861\n",
            "==================\n"
          ]
        }
      ]
    },
    {
      "cell_type": "code",
      "source": [
        "lr_optimized = LinearRegression(\n",
        "    maxIter=100,\n",
        "    regParam=0.01,\n",
        "    elasticNetParam=0.5\n",
        ")"
      ],
      "metadata": {
        "id": "H0kSU3zmyyYT"
      },
      "execution_count": null,
      "outputs": []
    },
    {
      "cell_type": "code",
      "source": [
        "lrModel_optimized = lr_optimized.fit(training)"
      ],
      "metadata": {
        "id": "aJUPI5Cny0IR"
      },
      "execution_count": null,
      "outputs": []
    },
    {
      "cell_type": "code",
      "source": [
        "trainingSummary_optimized = lrModel_optimized.summary\n",
        "print(\"=== Model Optimasi ===\")\n",
        "print(\"RMSE (Optimized): %f\" % trainingSummary_optimized.rootMeanSquaredError)\n",
        "print(\"R2 (Optimized): %f\" % trainingSummary_optimized.r2)\n",
        "print(\"======================\")\n",
        "\n",
        "# Menyimpan model jika diperlukan\n",
        "lrModel_optimized.save(\"linear_regression_optimized_model\")\n",
        "\n",
        "# Membersihkan session Spark                                                                                                                                                                                                                                                                                                                                                         2XZC 56DCCHHJYN9YUUUUUUUUUUUUUUUUUUUUUUUUUUUUUUUUUUUUUUUUUUUUUUO9-]HYO9L--H]H\n",
        "spark.stop()"
      ],
      "metadata": {
        "id": "tPZCsFfzy2EW",
        "colab": {
          "base_uri": "https://localhost:8080/"
        },
        "outputId": "51a3b093-62a1-4eda-f559-dc5c637b6880"
      },
      "execution_count": null,
      "outputs": [
        {
          "output_type": "stream",
          "name": "stdout",
          "text": [
            "=== Model Optimasi ===\n",
            "RMSE (Optimized): 10.163105\n",
            "R2 (Optimized): 0.027837\n",
            "======================\n"
          ]
        }
      ]
    }
  ]
}